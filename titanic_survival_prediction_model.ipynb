{
  "nbformat": 4,
  "nbformat_minor": 0,
  "metadata": {
    "colab": {
      "provenance": []
    },
    "kernelspec": {
      "name": "python3",
      "display_name": "Python 3"
    },
    "language_info": {
      "name": "python"
    }
  },
  "cells": [
    {
      "cell_type": "code",
      "execution_count": 2,
      "metadata": {
        "colab": {
          "base_uri": "https://localhost:8080/"
        },
        "id": "fRb-QFFEfMl-",
        "outputId": "e922932c-8cf4-4bb6-9646-021ef9027173"
      },
      "outputs": [
        {
          "output_type": "stream",
          "name": "stdout",
          "text": [
            "Percentage of women survival : 74.2\n",
            "Percentage of women survival : 18.89\n",
            "submission successful\n"
          ]
        }
      ],
      "source": [
        "import pandas as pd\n",
        "import numpy as np\n",
        "from sklearn.ensemble import RandomForestClassifier\n",
        "\n",
        "train_data=pd.read_csv(\"/content/sample_data/train.csv\")\n",
        "test_data=pd.read_csv(\"/content/sample_data/test.csv\")\n",
        "# women survival\n",
        "women_survival=train_data.loc[train_data.Sex==\"female\"][\"Survived\"]\n",
        "women_survival_rate=sum(women_survival)/len(women_survival)\n",
        "print(f\"Percentage of women survival : {round(women_survival_rate*100,2)}\")\n",
        "# men survival\n",
        "men_survival=train_data.loc[train_data.Sex==\"male\"][\"Survived\"]\n",
        "men_survival_rate=sum(men_survival)/len(men_survival)\n",
        "print(f\"Percentage of women survival : {round(men_survival_rate*100,2)}\")\n",
        "\n",
        "# prediction model\n",
        "\n",
        "Y=train_data[\"Survived\"]\n",
        "features=[\"Pclass\", \"Sex\", \"Age\", \"SibSp\", \"Parch\"]\n",
        "X=pd.get_dummies(train_data[features])\n",
        "X.fillna(X.median(), inplace=True)\n",
        "x_test=pd.get_dummies(test_data[features])\n",
        "x_test.fillna(x_test.median(),inplace=True)\n",
        "model=RandomForestClassifier(n_estimators=100,max_depth=5,random_state=1)\n",
        "model.fit(X,Y)\n",
        "predict=model.predict(x_test)\n",
        "output=pd.DataFrame({'PassengerId':test_data.PassengerId,'Survival':predict})\n",
        "output.to_csv('/content/sample_data/survival_prediction.csv')\n",
        "print(\"submission successful\")"
      ]
    },
    {
      "cell_type": "code",
      "source": [
        "def predict_survival(pclass, sex, age, sibsp, parch):\n",
        "    # Create input dataframe\n",
        "    input_data = pd.DataFrame({\n",
        "        \"Pclass\": [pclass],\n",
        "        \"Sex\": [sex],\n",
        "        \"Age\": [age],\n",
        "        \"SibSp\": [sibsp],\n",
        "        \"Parch\": [parch]\n",
        "    })\n",
        "\n",
        "    input_data = pd.get_dummies(input_data)\n",
        "    input_data = input_data.reindex(columns=X.columns, fill_value=0)\n",
        "\n",
        "    for col in X.columns:\n",
        "        if col not in input_data:\n",
        "            input_data[col] = 0\n",
        "\n",
        "    prediction = model.predict(input_data)\n",
        "\n",
        "    return \"Survived ✅\" if prediction[0] == 1 else \"Did Not Survive ❌\"\n"
      ],
      "metadata": {
        "id": "CYfirwl9ncAR"
      },
      "execution_count": 17,
      "outputs": []
    },
    {
      "cell_type": "code",
      "source": [
        "    pclass = int(input(\"Enter Passenger Class (1, 2, 3): \"))\n",
        "    sex = input(\"Enter Sex (male/female): \").lower()\n",
        "    age = float(input(\"Enter Age: \"))\n",
        "    sibsp = int(input(\"Enter Number of Siblings/Spouses: \"))\n",
        "    parch = int(input(\"Enter Number of Parents/Children: \"))\n",
        "    print(predict_survival(pclass, sex, age, sibsp, parch))"
      ],
      "metadata": {
        "colab": {
          "base_uri": "https://localhost:8080/"
        },
        "id": "xSsAa3VDn2Cy",
        "outputId": "e8cee7dc-38e0-4d84-8832-aacfc2d22232"
      },
      "execution_count": 18,
      "outputs": [
        {
          "output_type": "stream",
          "name": "stdout",
          "text": [
            "Enter Passenger Class (1, 2, 3): 3\n",
            "Enter Sex (male/female): female\n",
            "Enter Age: 55\n",
            "Enter Number of Siblings/Spouses: 0\n",
            "Enter Number of Parents/Children: 0\n",
            "Survived ✅\n"
          ]
        }
      ]
    }
  ]
}